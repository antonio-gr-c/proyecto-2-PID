{
 "cells": [
  {
   "cell_type": "markdown",
   "id": "0a65d2a2-e3af-4e04-b45b-57bf3470899d",
   "metadata": {},
   "source": [
    "# Proyecto de análisis y manipulación de datos con NumPy\n",
    "\n",
    "Este proyecto tiene como objetivo demostrar el uso de NumPy en la creación, manipulación y análisis de datos.\n",
    "\n",
    "### Parte 1: Creación y manipulación de arrays (30 puntos)\n",
    "\n",
    "#### Creación de un array de 10 elementos enteros aleatorios entre 1 y 100\n"
   ]
  },
  {
   "cell_type": "code",
   "execution_count": 5,
   "id": "865dda59-04f5-431e-bc45-90962d887b24",
   "metadata": {},
   "outputs": [
    {
     "name": "stdout",
     "output_type": "stream",
     "text": [
      "Array original:\n",
      "[48 44  4 82 69 86 65 57 82 58]\n"
     ]
    }
   ],
   "source": [
    "import numpy as np\n",
    "\n",
    "# Crear un array de 10 elementos aleatorios entre 1 y 100\n",
    "array = np.random.randint(1, 101, size=10)\n",
    "print(\"Array original:\")\n",
    "print(array)\n"
   ]
  },
  {
   "cell_type": "markdown",
   "id": "a36101ac-fb84-4af7-b480-53a6d4a7447c",
   "metadata": {},
   "source": [
    "### Convertir el array en una matriz 2x5"
   ]
  },
  {
   "cell_type": "code",
   "execution_count": 6,
   "id": "9589caed-83c4-4998-9889-b6538691b924",
   "metadata": {},
   "outputs": [
    {
     "name": "stdout",
     "output_type": "stream",
     "text": [
      "\n",
      "Matriz 2x5:\n",
      "[[48 44  4 82 69]\n",
      " [86 65 57 82 58]]\n"
     ]
    }
   ],
   "source": [
    "matriz = array.reshape(2, 5)\n",
    "print(\"\\nMatriz 2x5:\")\n",
    "print(matriz)"
   ]
  },
  {
   "cell_type": "markdown",
   "id": "066374e6-d569-448f-8271-4a3742f2b559",
   "metadata": {},
   "source": [
    "### Extraer la primera fila"
   ]
  },
  {
   "cell_type": "code",
   "execution_count": 7,
   "id": "0d392f34-73d5-4c99-8501-6a6b79747b9d",
   "metadata": {},
   "outputs": [
    {
     "name": "stdout",
     "output_type": "stream",
     "text": [
      "\n",
      "Primera fila:\n",
      "[48 44  4 82 69]\n"
     ]
    }
   ],
   "source": [
    "primera_fila = matriz[0, :]\n",
    "print(\"\\nPrimera fila:\")\n",
    "print(primera_fila)"
   ]
  },
  {
   "cell_type": "markdown",
   "id": "7639748b-7aa0-4c4a-8843-b67600b637ad",
   "metadata": {},
   "source": [
    "### Extraer la última columna"
   ]
  },
  {
   "cell_type": "code",
   "execution_count": 8,
   "id": "521efa97-146b-4187-a8d7-59fd710c914a",
   "metadata": {},
   "outputs": [
    {
     "name": "stdout",
     "output_type": "stream",
     "text": [
      "\n",
      "Última columna:\n",
      "[69 58]\n"
     ]
    }
   ],
   "source": [
    "ultima_columna = matriz[:, -1]\n",
    "print(\"\\nÚltima columna:\")\n",
    "print(ultima_columna)"
   ]
  },
  {
   "cell_type": "markdown",
   "id": "e50dfc14-84d5-49ca-b392-262c2fb83844",
   "metadata": {},
   "source": [
    "### Cambiar la segunda fila a ceros"
   ]
  },
  {
   "cell_type": "code",
   "execution_count": 9,
   "id": "d1f3392d-6e63-4c23-a490-8086561a6def",
   "metadata": {},
   "outputs": [
    {
     "name": "stdout",
     "output_type": "stream",
     "text": [
      "\n",
      "Matriz después de cambiar la segunda fila a ceros:\n",
      "[[48 44  4 82 69]\n",
      " [ 0  0  0  0  0]]\n"
     ]
    }
   ],
   "source": [
    "matriz[1, :] = 0\n",
    "print(\"\\nMatriz después de cambiar la segunda fila a ceros:\")\n",
    "print(matriz)"
   ]
  },
  {
   "cell_type": "markdown",
   "id": "c3ed60c6-5f2e-4a86-82f0-91eba4a276a7",
   "metadata": {},
   "source": [
    "## Parte 2: Operaciones básicas con NumPy (30 puntos)\n",
    "#### Operaciones aritméticas: Suma y multiplicación de dos arrays de 5 element"
   ]
  },
  {
   "cell_type": "markdown",
   "id": "fda972c6-f756-4b32-9c63-39494359d325",
   "metadata": {},
   "source": [
    "### Crear dos arrays de 5 elementos aleatorios entre 1 y 50"
   ]
  },
  {
   "cell_type": "code",
   "execution_count": 10,
   "id": "5d5605ce-ce9a-48ce-b37e-8c8f6c1ddb04",
   "metadata": {},
   "outputs": [
    {
     "name": "stdout",
     "output_type": "stream",
     "text": [
      "\n",
      "Array 1:\n",
      "[30 33 15 43  3]\n",
      "\n",
      "Array 2:\n",
      "[41  2  3 42 13]\n"
     ]
    }
   ],
   "source": [
    "array1 = np.random.randint(1, 51, size=5)\n",
    "array2 = np.random.randint(1, 51, size=5)\n",
    "print(\"\\nArray 1:\")\n",
    "print(array1)\n",
    "print(\"\\nArray 2:\")\n",
    "print(array2)"
   ]
  },
  {
   "cell_type": "markdown",
   "id": "0f303bcd-da8a-4daf-9ca3-3c3ad2e9ecfb",
   "metadata": {},
   "source": [
    "### Suma de ambos arrays"
   ]
  },
  {
   "cell_type": "code",
   "execution_count": 11,
   "id": "be69f73f-8881-4302-a1a1-c0868110bc5d",
   "metadata": {},
   "outputs": [
    {
     "name": "stdout",
     "output_type": "stream",
     "text": [
      "\n",
      "Suma de los arrays:\n",
      "[71 35 18 85 16]\n"
     ]
    }
   ],
   "source": [
    "suma_arrays = array1 + array2\n",
    "print(\"\\nSuma de los arrays:\")\n",
    "print(suma_arrays)"
   ]
  },
  {
   "cell_type": "markdown",
   "id": "572de06e-6998-4bce-905b-178f3c77d43d",
   "metadata": {},
   "source": [
    "### Multiplicación de ambos arrays"
   ]
  },
  {
   "cell_type": "code",
   "execution_count": 12,
   "id": "96927215-889a-4009-b3c7-8e2fb6fdcafe",
   "metadata": {},
   "outputs": [
    {
     "name": "stdout",
     "output_type": "stream",
     "text": [
      "\n",
      "Multiplicación de los arrays:\n",
      "[1230   66   45 1806   39]\n"
     ]
    }
   ],
   "source": [
    "multiplicacion_arrays = array1 * array2\n",
    "print(\"\\nMultiplicación de los arrays:\")\n",
    "print(multiplicacion_arrays)"
   ]
  },
  {
   "cell_type": "markdown",
   "id": "ef7b86e6-37a4-404d-a0c1-7dfaa331ef12",
   "metadata": {},
   "source": [
    "### Cálculo del promedio y la desviación estándar"
   ]
  },
  {
   "cell_type": "code",
   "execution_count": 13,
   "id": "88293cb5-7806-4342-b061-c3eb97e540b7",
   "metadata": {},
   "outputs": [
    {
     "name": "stdout",
     "output_type": "stream",
     "text": [
      "\n",
      "Promedio de la multiplicación de los arrays:\n",
      "637.2\n",
      "\n",
      "Desviación estándar de la multiplicación de los arrays:\n",
      "741.9324497553669\n"
     ]
    }
   ],
   "source": [
    "promedio = np.mean(multiplicacion_arrays)\n",
    "desviacion_estandar = np.std(multiplicacion_arrays)\n",
    "print(\"\\nPromedio de la multiplicación de los arrays:\")\n",
    "print(promedio)\n",
    "print(\"\\nDesviación estándar de la multiplicación de los arrays:\")\n",
    "print(desviacion_estandar)"
   ]
  },
  {
   "cell_type": "markdown",
   "id": "eff25e23-7fdc-484b-9f4f-179d1190a166",
   "metadata": {},
   "source": [
    "#### Condiciones lógicas: Reemplazo de valores en un array de números aleatorios entre 0 y 1\n",
    "### Crear un array de 20 números aleatorios entre 0 y 1"
   ]
  },
  {
   "cell_type": "code",
   "execution_count": 14,
   "id": "0460d96b-633a-4ac3-a247-049c8ad424ba",
   "metadata": {},
   "outputs": [
    {
     "name": "stdout",
     "output_type": "stream",
     "text": [
      "\n",
      "Array aleatorio entre 0 y 1:\n",
      "[0.05686081 0.27991528 0.54936219 0.85183785 0.05378412 0.06730326\n",
      " 0.21976034 0.60530923 0.27666761 0.37872229 0.82871841 0.71678764\n",
      " 0.12535257 0.31732047 0.98676658 0.69611774 0.48246708 0.42448823\n",
      " 0.72373197 0.82319719]\n"
     ]
    }
   ],
   "source": [
    "array_aleatorio = np.random.rand(20)\n",
    "print(\"\\nArray aleatorio entre 0 y 1:\")\n",
    "print(array_aleatorio)"
   ]
  },
  {
   "cell_type": "markdown",
   "id": "41aa2b13-af48-489f-a725-9eb4e7121ca7",
   "metadata": {},
   "source": [
    "### Reemplazar los valores menores a 0.5 con 0"
   ]
  },
  {
   "cell_type": "code",
   "execution_count": 15,
   "id": "9cd39b66-0180-462a-95b6-98535fe13601",
   "metadata": {},
   "outputs": [],
   "source": [
    "array_aleatorio[array_aleatorio < 0.5] = 0"
   ]
  },
  {
   "cell_type": "markdown",
   "id": "85fe035c-d91e-46bb-8244-b2630ce01d6e",
   "metadata": {},
   "source": [
    "### Reemplazar los valores mayores o iguales a 0.5 con 1"
   ]
  },
  {
   "cell_type": "code",
   "execution_count": 16,
   "id": "4a597f07-51c4-4486-8666-a3343611771b",
   "metadata": {},
   "outputs": [
    {
     "name": "stdout",
     "output_type": "stream",
     "text": [
      "\n",
      "Array después de aplicar condiciones lógicas:\n",
      "[0. 0. 1. 1. 0. 0. 0. 1. 0. 0. 1. 1. 0. 0. 1. 1. 0. 0. 1. 1.]\n"
     ]
    }
   ],
   "source": [
    "array_aleatorio[array_aleatorio >= 0.5] = 1\n",
    "print(\"\\nArray después de aplicar condiciones lógicas:\")\n",
    "print(array_aleatorio)"
   ]
  },
  {
   "cell_type": "markdown",
   "id": "b0532b9a-bfee-4bbf-b8c0-273ec1854c83",
   "metadata": {},
   "source": [
    "#### Producto escalar de dos matrices 3x3"
   ]
  },
  {
   "cell_type": "markdown",
   "id": "7ad659af-d992-45bd-b130-1bd7df7d7f2e",
   "metadata": {},
   "source": [
    "### Crear dos arrays 3x3"
   ]
  },
  {
   "cell_type": "code",
   "execution_count": 17,
   "id": "55bb6fd2-5738-4e86-8852-2c82a7a5e70d",
   "metadata": {},
   "outputs": [
    {
     "name": "stdout",
     "output_type": "stream",
     "text": [
      "\n",
      "Matriz 1:\n",
      "[[5 8 6]\n",
      " [7 7 1]\n",
      " [4 3 7]]\n",
      "\n",
      "Matriz 2:\n",
      "[[6 9 3]\n",
      " [8 2 5]\n",
      " [2 3 9]]\n"
     ]
    }
   ],
   "source": [
    "matriz1 = np.random.randint(1, 10, size=(3, 3))\n",
    "matriz2 = np.random.randint(1, 10, size=(3, 3))\n",
    "print(\"\\nMatriz 1:\")\n",
    "print(matriz1)\n",
    "print(\"\\nMatriz 2:\")\n",
    "print(matriz2)"
   ]
  },
  {
   "cell_type": "markdown",
   "id": "36f1b0b9-5e92-4d74-a3c8-2b8fade9fe11",
   "metadata": {},
   "source": [
    "### Producto escalar"
   ]
  },
  {
   "cell_type": "code",
   "execution_count": 18,
   "id": "4f80821e-4abc-4510-aacd-791f06ad92cd",
   "metadata": {},
   "outputs": [
    {
     "name": "stdout",
     "output_type": "stream",
     "text": [
      "\n",
      "Producto escalar de las matrices:\n",
      "[[106  79 109]\n",
      " [100  80  65]\n",
      " [ 62  63  90]]\n"
     ]
    }
   ],
   "source": [
    "producto_escalar = np.dot(matriz1, matriz2)\n",
    "print(\"\\nProducto escalar de las matrices:\")\n",
    "print(producto_escalar)"
   ]
  },
  {
   "cell_type": "markdown",
   "id": "523b1bd2-f8bc-45c1-a809-b29b8351be5e",
   "metadata": {},
   "source": [
    "## Parte 3: Análisis de datos con NumPy (40 puntos)"
   ]
  },
  {
   "cell_type": "markdown",
   "id": "4169bc17-f192-4866-8019-bab353fd518d",
   "metadata": {},
   "source": [
    "#### Creación de una matriz de datos de 5 filas y 4 columnas con datos aleatorios entre 1 y 20"
   ]
  },
  {
   "cell_type": "markdown",
   "id": "4b1f24ae-0aa0-480a-aab9-de7033769a06",
   "metadata": {},
   "source": [
    "### Crear una matriz de 5 filas y 4 columnas con datos aleatorios entre 1 y 20"
   ]
  },
  {
   "cell_type": "code",
   "execution_count": 19,
   "id": "e80abad2-c23f-4434-9830-61371c60fc43",
   "metadata": {},
   "outputs": [
    {
     "name": "stdout",
     "output_type": "stream",
     "text": [
      "\n",
      "Matriz de datos (cada fila representa una persona, cada columna una medición):\n",
      "[[ 5 17 19  8]\n",
      " [17 11  9  7]\n",
      " [11  9 20 20]\n",
      " [12 13  1  9]\n",
      " [ 2 20  2  5]]\n"
     ]
    }
   ],
   "source": [
    "datos = np.random.randint(1, 21, size=(5, 4))\n",
    "print(\"\\nMatriz de datos (cada fila representa una persona, cada columna una medición):\")\n",
    "print(datos)"
   ]
  },
  {
   "cell_type": "markdown",
   "id": "959843be-e2b0-441a-87ac-48e9bb1ccabd",
   "metadata": {},
   "source": [
    "### Estadísticas\n",
    "#### 1. Calcular la media de cada columna (medición)\n",
    "### Media de cada columna"
   ]
  },
  {
   "cell_type": "code",
   "execution_count": 20,
   "id": "14ff12eb-c2e1-498f-854e-7dffbbb532e9",
   "metadata": {},
   "outputs": [
    {
     "name": "stdout",
     "output_type": "stream",
     "text": [
      "\n",
      "Media de cada columna:\n",
      "[ 9.4 14.  10.2  9.8]\n"
     ]
    }
   ],
   "source": [
    "media_columnas = np.mean(datos, axis=0)\n",
    "print(\"\\nMedia de cada columna:\")\n",
    "print(media_columnas)"
   ]
  },
  {
   "cell_type": "markdown",
   "id": "9e20aea0-7229-464e-b96f-a4f3c0991127",
   "metadata": {},
   "source": [
    "#### 2. Encontrar el valor máximo y mínimo de cada fila"
   ]
  },
  {
   "cell_type": "markdown",
   "id": "a8449b53-c552-45d8-b9b6-f70785ca6463",
   "metadata": {},
   "source": [
    "### Máximo y mínimo de cada fila"
   ]
  },
  {
   "cell_type": "code",
   "execution_count": 21,
   "id": "d476e51a-a8f3-43a9-a30e-938004645b0e",
   "metadata": {},
   "outputs": [
    {
     "name": "stdout",
     "output_type": "stream",
     "text": [
      "\n",
      "Máximo de cada fila:\n",
      "[19 17 20 13 20]\n",
      "\n",
      "Mínimo de cada fila:\n",
      "[5 7 9 1 2]\n"
     ]
    }
   ],
   "source": [
    "max_filas = np.max(datos, axis=1)\n",
    "min_filas = np.min(datos, axis=1)\n",
    "print(\"\\nMáximo de cada fila:\")\n",
    "print(max_filas)\n",
    "print(\"\\nMínimo de cada fila:\")\n",
    "print(min_filas)"
   ]
  },
  {
   "cell_type": "markdown",
   "id": "373eaa0b-3d04-4541-bcc7-d6c7e58f8c61",
   "metadata": {},
   "source": [
    "#### 3. Ordenar las filas según los valores de la segunda columna (peso)"
   ]
  },
  {
   "cell_type": "markdown",
   "id": "42174695-a59a-43b4-86e6-24836724cea5",
   "metadata": {},
   "source": [
    "### Ordenar las filas según la segunda columna (índice 1) "
   ]
  },
  {
   "cell_type": "code",
   "execution_count": 22,
   "id": "f511f559-bafb-431f-926e-a830ed782cda",
   "metadata": {},
   "outputs": [
    {
     "name": "stdout",
     "output_type": "stream",
     "text": [
      "\n",
      "Matriz ordenada según la segunda columna (peso):\n",
      "[[11  9 20 20]\n",
      " [17 11  9  7]\n",
      " [12 13  1  9]\n",
      " [ 5 17 19  8]\n",
      " [ 2 20  2  5]]\n"
     ]
    }
   ],
   "source": [
    "datos_ordenados = datos[datos[:, 1].argsort()]\n",
    "print(\"\\nMatriz ordenada según la segunda columna (peso):\")\n",
    "print(datos_ordenados)"
   ]
  },
  {
   "cell_type": "code",
   "execution_count": null,
   "id": "52374695-86a9-40e0-9e00-e630d2467cc6",
   "metadata": {},
   "outputs": [],
   "source": []
  }
 ],
 "metadata": {
  "kernelspec": {
   "display_name": "Python 3 (ipykernel)",
   "language": "python",
   "name": "python3"
  },
  "language_info": {
   "codemirror_mode": {
    "name": "ipython",
    "version": 3
   },
   "file_extension": ".py",
   "mimetype": "text/x-python",
   "name": "python",
   "nbconvert_exporter": "python",
   "pygments_lexer": "ipython3",
   "version": "3.11.9"
  }
 },
 "nbformat": 4,
 "nbformat_minor": 5
}
